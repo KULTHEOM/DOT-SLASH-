{
 "cells": [
  {
   "cell_type": "code",
   "execution_count": 1,
   "metadata": {},
   "outputs": [],
   "source": [
    "import pandas as pd "
   ]
  },
  {
   "cell_type": "code",
   "execution_count": 2,
   "metadata": {},
   "outputs": [
    {
     "name": "stdout",
     "output_type": "stream",
     "text": [
      "CSV file 'stock_transactions.csv' generated successfully.\n"
     ]
    }
   ],
   "source": [
    "import csv\n",
    "import random\n",
    "from datetime import datetime, timedelta\n",
    "\n",
    "# List of stock symbols\n",
    "stock_symbols = ['AAPL', 'GOOGL', 'AMZN', 'MSFT', 'TSLA', 'FB', 'NVDA', 'PYPL', 'ADBE', 'INTC']\n",
    "\n",
    "# Function to generate random dates within a range\n",
    "def random_date(start, end):\n",
    "    return start + timedelta(\n",
    "        seconds=random.randint(0, int((end - start).total_seconds()))\n",
    "    )\n",
    "\n",
    "# Generate the CSV file\n",
    "def generate_stock_transactions_csv(filename, num_entries=500):\n",
    "    start_date = datetime(2022, 1, 1)\n",
    "    end_date = datetime(2023, 1, 1)\n",
    "\n",
    "    with open(filename, mode='w', newline='') as file:\n",
    "        writer = csv.writer(file)\n",
    "        # Write the header\n",
    "        writer.writerow(['Transaction ID', 'Stock Symbol', 'Transaction Type', 'Quantity', 'Price', 'Transaction Date'])\n",
    "\n",
    "        for i in range(1, num_entries + 1):\n",
    "            transaction_id = i\n",
    "            stock_symbol = random.choice(stock_symbols)\n",
    "            transaction_type = random.choice(['Buy', 'Sell'])\n",
    "            quantity = random.randint(1, 1000)\n",
    "            price = round(random.uniform(10.0, 1000.0), 2)\n",
    "            transaction_date = random_date(start_date, end_date).strftime('%Y-%m-%d')\n",
    "\n",
    "            writer.writerow([transaction_id, stock_symbol, transaction_type, quantity, price, transaction_date])\n",
    "\n",
    "# Generate the CSV file with 500 entries\n",
    "generate_stock_transactions_csv('stock_transactions.csv', 500)\n",
    "print(\"CSV file 'stock_transactions.csv' generated successfully.\")"
   ]
  },
  {
   "cell_type": "code",
   "execution_count": null,
   "metadata": {},
   "outputs": [],
   "source": []
  }
 ],
 "metadata": {
  "kernelspec": {
   "display_name": "Python 3",
   "language": "python",
   "name": "python3"
  },
  "language_info": {
   "codemirror_mode": {
    "name": "ipython",
    "version": 3
   },
   "file_extension": ".py",
   "mimetype": "text/x-python",
   "name": "python",
   "nbconvert_exporter": "python",
   "pygments_lexer": "ipython3",
   "version": "3.11.4"
  }
 },
 "nbformat": 4,
 "nbformat_minor": 2
}
