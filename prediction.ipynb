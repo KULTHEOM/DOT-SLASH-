{
 "cells": [
  {
   "cell_type": "code",
   "execution_count": 1,
   "metadata": {},
   "outputs": [],
   "source": [
    "import pandas as pd "
   ]
  },
  {
   "cell_type": "code",
   "execution_count": 3,
   "metadata": {},
   "outputs": [
    {
     "name": "stderr",
     "output_type": "stream",
     "text": [
      "C:\\Users\\OM\\AppData\\Roaming\\Python\\Python311\\site-packages\\sklearn\\base.py:348: InconsistentVersionWarning: Trying to unpickle estimator SVR from version 1.6.1 when using version 1.3.2. This might lead to breaking code or invalid results. Use at your own risk. For more info please refer to:\n",
      "https://scikit-learn.org/stable/model_persistence.html#security-maintainability-limitations\n",
      "  warnings.warn(\n"
     ]
    },
    {
     "name": "stdout",
     "output_type": "stream",
     "text": [
      "Predictions: [ 0.05234946  0.05945187  0.01173665 ... -0.00853084 -0.00148193\n",
      " -0.01607401]\n"
     ]
    }
   ],
   "source": [
    "import joblib\n",
    "import torch\n",
    "import numpy as np\n",
    "import pandas as pd\n",
    "from sklearn.preprocessing import MinMaxScaler\n",
    "import torch.nn as nn\n",
    "\n",
    "class StockPredictor:\n",
    "    def __init__(self):\n",
    "        self.scaler = MinMaxScaler()\n",
    "        self.model = None\n",
    "        self.neural_net = nn.Sequential(\n",
    "            nn.Linear(15, 64),\n",
    "            nn.ReLU(),\n",
    "            nn.Linear(64, 32)\n",
    "        )\n",
    "\n",
    "    def load_model(self, model_path: str, neural_net_path: str):\n",
    "        self.model = joblib.load(model_path)\n",
    "        self.neural_net.load_state_dict(torch.load(neural_net_path))\n",
    "        self.neural_net.eval()\n",
    "\n",
    "    def fit_scaler(self, X):\n",
    "        self.scaler.fit(X)\n",
    "\n",
    "    def predict(self, X):\n",
    "        X_scaled = self.scaler.transform(X)\n",
    "        predictions = self.model.predict(X_scaled)\n",
    "        return predictions\n",
    "\n",
    "if __name__ == \"__main__\":\n",
    "    predictor = StockPredictor()\n",
    "    predictor.load_model(r\"D:\\DOT SLASH\\RELI_model.pkl\", r\"D:\\DOT SLASH\\contrastive_model.pth\")\n",
    "\n",
    "    # Load new data for prediction\n",
    "    new_data = pd.read_csv(r\"D:\\DOT SLASH\\testing_features.csv\")\n",
    "    new_data.columns = new_data.columns.str.strip()\n",
    "    new_data[\"date\"] = pd.to_datetime(new_data[\"date\"], errors=\"coerce\")\n",
    "    new_data.dropna(subset=[\"date\"], inplace=True)\n",
    "    new_data.set_index(\"date\", inplace=True)\n",
    "    new_data = new_data.apply(pd.to_numeric, errors=\"coerce\")\n",
    "    X_new = new_data.values\n",
    "\n",
    "    # Fit the scaler on the new data\n",
    "    predictor.fit_scaler(X_new)\n",
    "\n",
    "    predictions = predictor.predict(X_new)\n",
    "    print(f\"Predictions: {predictions}\")"
   ]
  },
  {
   "cell_type": "code",
   "execution_count": null,
   "metadata": {},
   "outputs": [],
   "source": []
  }
 ],
 "metadata": {
  "kernelspec": {
   "display_name": "Python 3",
   "language": "python",
   "name": "python3"
  },
  "language_info": {
   "codemirror_mode": {
    "name": "ipython",
    "version": 3
   },
   "file_extension": ".py",
   "mimetype": "text/x-python",
   "name": "python",
   "nbconvert_exporter": "python",
   "pygments_lexer": "ipython3",
   "version": "3.11.4"
  }
 },
 "nbformat": 4,
 "nbformat_minor": 2
}
